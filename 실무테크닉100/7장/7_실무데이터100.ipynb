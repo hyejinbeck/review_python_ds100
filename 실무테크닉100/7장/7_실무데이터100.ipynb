{
 "cells": [
  {
   "cell_type": "markdown",
   "id": "3a29dd28-ee4b-49e2-ba07-46211c968fe9",
   "metadata": {},
   "source": [
    "# 7강 : \"제조(처음)부터 배송(끝)까지 과정 중, 비용절감 해야할 부분이 있나요?\"\n",
    "\n",
    "## 1. 운송비용 최적화 \n",
    "## 2. 생산계획 최적화"
   ]
  },
  {
   "cell_type": "markdown",
   "id": "83a7037f-5260-4d52-8589-7291e9c89f0b",
   "metadata": {},
   "source": [
    "# 1. 운송비용 최적화\n",
    "\n",
    "- 제작공장 목록\n",
    "- 생산제품 목록\n",
    "- 만들어지는 공장레인 목록\n",
    "\n",
    "- 공장들에서 판매점들로 각각 배송목록\n",
    "\n",
    "- 생산제품들에 대한 각자의 수요값 목록"
   ]
  },
  {
   "cell_type": "markdown",
   "id": "f9e8ba04-0932-4722-88a2-af4aa7032542",
   "metadata": {},
   "source": [
    "## 1.1. 데이터 읽기"
   ]
  },
  {
   "cell_type": "code",
   "execution_count": 1,
   "id": "182ec2f4-be24-4f81-b4a0-1346c5a87eea",
   "metadata": {},
   "outputs": [],
   "source": [
    "# 경고(warning) 비표시\n",
    "import warnings\n",
    "warnings.filterwarnings('ignore')"
   ]
  },
  {
   "cell_type": "code",
   "execution_count": 2,
   "id": "dc39ffe4-63b2-4957-91be-742f0f2e2853",
   "metadata": {},
   "outputs": [],
   "source": [
    "# 필요 라이브러리 설치 \n",
    "import numpy as np\n",
    "import pandas as pd\n",
    "from itertools import product                        # 여러 리스트들의 모든 가능한 조합(데카르트 곱) 생성 \n",
    "# !pip install pulp                                  # 선형 최적화 모델 작성용\n",
    "from pulp import LpVariable, lpSum, value\n",
    "# !pip install ortoolpy                              # 함수 생성해서 문제 풀기용\n",
    "from ortoolpy import model_min, addvars, addvals"
   ]
  },
  {
   "cell_type": "code",
   "execution_count": 3,
   "id": "b6002b5e-9558-41e8-a5a5-ecf338ba1893",
   "metadata": {},
   "outputs": [
    {
     "data": {
      "text/html": [
       "<div>\n",
       "<style scoped>\n",
       "    .dataframe tbody tr th:only-of-type {\n",
       "        vertical-align: middle;\n",
       "    }\n",
       "\n",
       "    .dataframe tbody tr th {\n",
       "        vertical-align: top;\n",
       "    }\n",
       "\n",
       "    .dataframe thead th {\n",
       "        text-align: right;\n",
       "    }\n",
       "</style>\n",
       "<table border=\"1\" class=\"dataframe\">\n",
       "  <thead>\n",
       "    <tr style=\"text-align: right;\">\n",
       "      <th></th>\n",
       "      <th>F1</th>\n",
       "      <th>F2</th>\n",
       "      <th>F3</th>\n",
       "      <th>F4</th>\n",
       "    </tr>\n",
       "    <tr>\n",
       "      <th>공장</th>\n",
       "      <th></th>\n",
       "      <th></th>\n",
       "      <th></th>\n",
       "      <th></th>\n",
       "    </tr>\n",
       "  </thead>\n",
       "  <tbody>\n",
       "    <tr>\n",
       "      <th>W1</th>\n",
       "      <td>10</td>\n",
       "      <td>10</td>\n",
       "      <td>11</td>\n",
       "      <td>27</td>\n",
       "    </tr>\n",
       "    <tr>\n",
       "      <th>W2</th>\n",
       "      <td>18</td>\n",
       "      <td>21</td>\n",
       "      <td>12</td>\n",
       "      <td>14</td>\n",
       "    </tr>\n",
       "    <tr>\n",
       "      <th>W3</th>\n",
       "      <td>15</td>\n",
       "      <td>12</td>\n",
       "      <td>14</td>\n",
       "      <td>12</td>\n",
       "    </tr>\n",
       "  </tbody>\n",
       "</table>\n",
       "</div>"
      ],
      "text/plain": [
       "    F1  F2  F3  F4\n",
       "공장                \n",
       "W1  10  10  11  27\n",
       "W2  18  21  12  14\n",
       "W3  15  12  14  12"
      ]
     },
     "execution_count": 3,
     "metadata": {},
     "output_type": "execute_result"
    }
   ],
   "source": [
    "# 데이터 불러오기\n",
    "df_tc = pd.read_csv('trans_cost.csv', index_col=\"공장\")\n",
    "df_tc      # 공장과 창고간의 배송량"
   ]
  },
  {
   "cell_type": "code",
   "execution_count": 4,
   "id": "3a1d7ade-7e95-402e-ac0b-977c935a2e68",
   "metadata": {},
   "outputs": [
    {
     "data": {
      "text/html": [
       "<div>\n",
       "<style scoped>\n",
       "    .dataframe tbody tr th:only-of-type {\n",
       "        vertical-align: middle;\n",
       "    }\n",
       "\n",
       "    .dataframe tbody tr th {\n",
       "        vertical-align: top;\n",
       "    }\n",
       "\n",
       "    .dataframe thead th {\n",
       "        text-align: right;\n",
       "    }\n",
       "</style>\n",
       "<table border=\"1\" class=\"dataframe\">\n",
       "  <thead>\n",
       "    <tr style=\"text-align: right;\">\n",
       "      <th></th>\n",
       "      <th>F1</th>\n",
       "      <th>F2</th>\n",
       "      <th>F3</th>\n",
       "      <th>F4</th>\n",
       "    </tr>\n",
       "  </thead>\n",
       "  <tbody>\n",
       "    <tr>\n",
       "      <th>0</th>\n",
       "      <td>28</td>\n",
       "      <td>29</td>\n",
       "      <td>31</td>\n",
       "      <td>25</td>\n",
       "    </tr>\n",
       "  </tbody>\n",
       "</table>\n",
       "</div>"
      ],
      "text/plain": [
       "   F1  F2  F3  F4\n",
       "0  28  29  31  25"
      ]
     },
     "execution_count": 4,
     "metadata": {},
     "output_type": "execute_result"
    }
   ],
   "source": [
    "df_demand = pd.read_csv('demand.csv')\n",
    "df_demand   # 수요량"
   ]
  },
  {
   "cell_type": "code",
   "execution_count": 5,
   "id": "24ba1cb2-4e79-479b-b732-8dea05def5e8",
   "metadata": {},
   "outputs": [
    {
     "data": {
      "text/html": [
       "<div>\n",
       "<style scoped>\n",
       "    .dataframe tbody tr th:only-of-type {\n",
       "        vertical-align: middle;\n",
       "    }\n",
       "\n",
       "    .dataframe tbody tr th {\n",
       "        vertical-align: top;\n",
       "    }\n",
       "\n",
       "    .dataframe thead th {\n",
       "        text-align: right;\n",
       "    }\n",
       "</style>\n",
       "<table border=\"1\" class=\"dataframe\">\n",
       "  <thead>\n",
       "    <tr style=\"text-align: right;\">\n",
       "      <th></th>\n",
       "      <th>W1</th>\n",
       "      <th>W2</th>\n",
       "      <th>W3</th>\n",
       "    </tr>\n",
       "  </thead>\n",
       "  <tbody>\n",
       "    <tr>\n",
       "      <th>0</th>\n",
       "      <td>35</td>\n",
       "      <td>41</td>\n",
       "      <td>42</td>\n",
       "    </tr>\n",
       "  </tbody>\n",
       "</table>\n",
       "</div>"
      ],
      "text/plain": [
       "   W1  W2  W3\n",
       "0  35  41  42"
      ]
     },
     "execution_count": 5,
     "metadata": {},
     "output_type": "execute_result"
    }
   ],
   "source": [
    "df_supply = pd.read_csv('supply.csv')\n",
    "df_supply   # 제공량"
   ]
  },
  {
   "cell_type": "markdown",
   "id": "965c34c2-1901-4adb-b074-97ae3d524bbb",
   "metadata": {},
   "source": [
    "## 1.2. 최적의 운송경로 계산"
   ]
  },
  {
   "cell_type": "code",
   "execution_count": 6,
   "id": "749c3eb6-b27c-45c0-ade7-9a11b633c0d1",
   "metadata": {},
   "outputs": [
    {
     "name": "stdout",
     "output_type": "stream",
     "text": [
      "Welcome to the CBC MILP Solver \n",
      "Version: 2.10.3 \n",
      "Build Date: Dec 15 2019 \n",
      "\n",
      "command line - /Users/beckhyejin/.pyenv/versions/3.10.11/lib/python3.10/site-packages/pulp/solverdir/cbc/osx/64/cbc /var/folders/ld/lw14806d1tnctxswkwdvry_80000gn/T/ad7d48b3af5e435b9c3482a890b557ad-pulp.mps -timeMode elapsed -branch -printingOptions all -solution /var/folders/ld/lw14806d1tnctxswkwdvry_80000gn/T/ad7d48b3af5e435b9c3482a890b557ad-pulp.sol (default strategy 1)\n",
      "At line 2 NAME          MODEL\n",
      "At line 3 ROWS\n",
      "At line 12 COLUMNS\n",
      "At line 49 RHS\n",
      "At line 57 BOUNDS\n",
      "At line 58 ENDATA\n",
      "Problem MODEL has 7 rows, 12 columns and 24 elements\n",
      "Coin0008I MODEL read with 0 errors\n",
      "Option for timeMode changed from cpu to elapsed\n",
      "Presolve 7 (0) rows, 12 (0) columns and 24 (0) elements\n",
      "0  Obj 0 Primal inf 113 (4)\n",
      "7  Obj 1296\n",
      "Optimal - objective value 1296\n",
      "Optimal objective 1296 - 7 iterations time 0.002\n",
      "Option for printingOptions changed from normal to all\n",
      "Total time (CPU seconds):       0.00   (Wallclock seconds):       0.00\n",
      "\n"
     ]
    }
   ],
   "source": [
    "# 각 공장마다 제조할 제품 수요량을 만족시키면서 창고가 제공할 부품의 최대치를 넘지 않는 최적의 값을 계산합니다.\n",
    "\n",
    "##############################  초기 설정  \n",
    "np.random.seed(1)\n",
    "nw = len(df_tc.index)\n",
    "nf = len(df_tc.columns)\n",
    "pr = list(product(range(nw), range(nf)))\n",
    "\n",
    "############################## 수리 모델 작성  \n",
    "# 최소화 실행모델 정의 \n",
    "m1 = model_min()                \n",
    "\n",
    "# 제약조건 추가 \n",
    "v1 = {(i,j):LpVariable('v%d_%d'%(i,j),lowBound=0) for i,j in pr}\n",
    "\n",
    "m1 += lpSum(df_tc.iloc[i][j]*v1[i,j] for i,j in pr)\n",
    "for i in range(nw):\n",
    "    m1 += lpSum(v1[i,j] for j in range(nf)) <= df_supply.iloc[0][i]\n",
    "for j in range(nf):\n",
    "    m1 += lpSum(v1[i,j] for i in range(nw)) >= df_demand.iloc[0][j]\n",
    "m1.solve()\n",
    "\n",
    "# 총 운송 비용 계산\n",
    "df_tr_sol = df_tc.copy()\n",
    "total_cost = 0\n",
    "for k,x in v1.items():\n",
    "    i,j = k[0],k[1]\n",
    "    df_tr_sol.iloc[i][j] = value(x)\n",
    "    total_cost += df_tc.iloc[i][j]*value(x)"
   ]
  },
  {
   "cell_type": "code",
   "execution_count": 7,
   "id": "dcf89086-e947-4c1e-b92e-0ada53302c39",
   "metadata": {},
   "outputs": [
    {
     "data": {
      "text/html": [
       "<div>\n",
       "<style scoped>\n",
       "    .dataframe tbody tr th:only-of-type {\n",
       "        vertical-align: middle;\n",
       "    }\n",
       "\n",
       "    .dataframe tbody tr th {\n",
       "        vertical-align: top;\n",
       "    }\n",
       "\n",
       "    .dataframe thead th {\n",
       "        text-align: right;\n",
       "    }\n",
       "</style>\n",
       "<table border=\"1\" class=\"dataframe\">\n",
       "  <thead>\n",
       "    <tr style=\"text-align: right;\">\n",
       "      <th></th>\n",
       "      <th>F1</th>\n",
       "      <th>F2</th>\n",
       "      <th>F3</th>\n",
       "      <th>F4</th>\n",
       "    </tr>\n",
       "    <tr>\n",
       "      <th>공장</th>\n",
       "      <th></th>\n",
       "      <th></th>\n",
       "      <th></th>\n",
       "      <th></th>\n",
       "    </tr>\n",
       "  </thead>\n",
       "  <tbody>\n",
       "    <tr>\n",
       "      <th>W1</th>\n",
       "      <td>28</td>\n",
       "      <td>7</td>\n",
       "      <td>0</td>\n",
       "      <td>0</td>\n",
       "    </tr>\n",
       "    <tr>\n",
       "      <th>W2</th>\n",
       "      <td>0</td>\n",
       "      <td>0</td>\n",
       "      <td>31</td>\n",
       "      <td>5</td>\n",
       "    </tr>\n",
       "    <tr>\n",
       "      <th>W3</th>\n",
       "      <td>0</td>\n",
       "      <td>22</td>\n",
       "      <td>0</td>\n",
       "      <td>20</td>\n",
       "    </tr>\n",
       "  </tbody>\n",
       "</table>\n",
       "</div>"
      ],
      "text/plain": [
       "    F1  F2  F3  F4\n",
       "공장                \n",
       "W1  28   7   0   0\n",
       "W2   0   0  31   5\n",
       "W3   0  22   0  20"
      ]
     },
     "execution_count": 7,
     "metadata": {},
     "output_type": "execute_result"
    }
   ],
   "source": [
    "# 최적의 값 \n",
    "df_tr_sol"
   ]
  },
  {
   "cell_type": "code",
   "execution_count": 8,
   "id": "0d1fec82-99d7-4d02-b675-096be299aa51",
   "metadata": {},
   "outputs": [
    {
     "data": {
      "text/plain": [
       "1296.0"
      ]
     },
     "execution_count": 8,
     "metadata": {},
     "output_type": "execute_result"
    }
   ],
   "source": [
    "# 이대로 운송하게 될경우 총 운송비용 \n",
    "total_cost"
   ]
  },
  {
   "cell_type": "markdown",
   "id": "30b60527-86ab-4f0c-a824-7180806e0462",
   "metadata": {},
   "source": [
    "## 1.3. 최적의 운송경로 네트워크 시각화"
   ]
  },
  {
   "cell_type": "code",
   "execution_count": 9,
   "id": "72688344-3227-4a25-b44d-5959e14a46e6",
   "metadata": {},
   "outputs": [],
   "source": [
    "import pandas as pd\n",
    "import numpy as np\n",
    "import matplotlib.pyplot as plt\n",
    "import networkx as nx"
   ]
  },
  {
   "cell_type": "code",
   "execution_count": 10,
   "id": "42d8ead5-797d-4d21-addf-37af1f64f615",
   "metadata": {},
   "outputs": [
    {
     "data": {
      "text/html": [
       "<div>\n",
       "<style scoped>\n",
       "    .dataframe tbody tr th:only-of-type {\n",
       "        vertical-align: middle;\n",
       "    }\n",
       "\n",
       "    .dataframe tbody tr th {\n",
       "        vertical-align: top;\n",
       "    }\n",
       "\n",
       "    .dataframe thead th {\n",
       "        text-align: right;\n",
       "    }\n",
       "</style>\n",
       "<table border=\"1\" class=\"dataframe\">\n",
       "  <thead>\n",
       "    <tr style=\"text-align: right;\">\n",
       "      <th></th>\n",
       "      <th>F1</th>\n",
       "      <th>F2</th>\n",
       "      <th>F3</th>\n",
       "      <th>F4</th>\n",
       "    </tr>\n",
       "    <tr>\n",
       "      <th>공장</th>\n",
       "      <th></th>\n",
       "      <th></th>\n",
       "      <th></th>\n",
       "      <th></th>\n",
       "    </tr>\n",
       "  </thead>\n",
       "  <tbody>\n",
       "    <tr>\n",
       "      <th>W1</th>\n",
       "      <td>28</td>\n",
       "      <td>7</td>\n",
       "      <td>0</td>\n",
       "      <td>0</td>\n",
       "    </tr>\n",
       "    <tr>\n",
       "      <th>W2</th>\n",
       "      <td>0</td>\n",
       "      <td>0</td>\n",
       "      <td>31</td>\n",
       "      <td>5</td>\n",
       "    </tr>\n",
       "    <tr>\n",
       "      <th>W3</th>\n",
       "      <td>0</td>\n",
       "      <td>22</td>\n",
       "      <td>0</td>\n",
       "      <td>20</td>\n",
       "    </tr>\n",
       "  </tbody>\n",
       "</table>\n",
       "</div>"
      ],
      "text/plain": [
       "    F1  F2  F3  F4\n",
       "공장                \n",
       "W1  28   7   0   0\n",
       "W2   0   0  31   5\n",
       "W3   0  22   0  20"
      ]
     },
     "execution_count": 10,
     "metadata": {},
     "output_type": "execute_result"
    }
   ],
   "source": [
    "df_tr = df_tr_sol.copy()\n",
    "df_tr"
   ]
  },
  {
   "cell_type": "code",
   "execution_count": 11,
   "id": "0d799ff5-e452-49a8-b157-9465edcbd73e",
   "metadata": {},
   "outputs": [
    {
     "data": {
      "text/html": [
       "<div>\n",
       "<style scoped>\n",
       "    .dataframe tbody tr th:only-of-type {\n",
       "        vertical-align: middle;\n",
       "    }\n",
       "\n",
       "    .dataframe tbody tr th {\n",
       "        vertical-align: top;\n",
       "    }\n",
       "\n",
       "    .dataframe thead th {\n",
       "        text-align: right;\n",
       "    }\n",
       "</style>\n",
       "<table border=\"1\" class=\"dataframe\">\n",
       "  <thead>\n",
       "    <tr style=\"text-align: right;\">\n",
       "      <th></th>\n",
       "      <th>W1</th>\n",
       "      <th>W2</th>\n",
       "      <th>W3</th>\n",
       "      <th>F1</th>\n",
       "      <th>F2</th>\n",
       "      <th>F3</th>\n",
       "      <th>F4</th>\n",
       "    </tr>\n",
       "  </thead>\n",
       "  <tbody>\n",
       "    <tr>\n",
       "      <th>0</th>\n",
       "      <td>0</td>\n",
       "      <td>0</td>\n",
       "      <td>0</td>\n",
       "      <td>4.0</td>\n",
       "      <td>4.0</td>\n",
       "      <td>4.0</td>\n",
       "      <td>4.0</td>\n",
       "    </tr>\n",
       "    <tr>\n",
       "      <th>1</th>\n",
       "      <td>1</td>\n",
       "      <td>2</td>\n",
       "      <td>3</td>\n",
       "      <td>0.5</td>\n",
       "      <td>1.5</td>\n",
       "      <td>2.5</td>\n",
       "      <td>3.5</td>\n",
       "    </tr>\n",
       "  </tbody>\n",
       "</table>\n",
       "</div>"
      ],
      "text/plain": [
       "   W1  W2  W3   F1   F2   F3   F4\n",
       "0   0   0   0  4.0  4.0  4.0  4.0\n",
       "1   1   2   3  0.5  1.5  2.5  3.5"
      ]
     },
     "execution_count": 11,
     "metadata": {},
     "output_type": "execute_result"
    }
   ],
   "source": [
    "df_pos = pd.read_csv('trans_route_pos.csv')\n",
    "df_pos"
   ]
  },
  {
   "cell_type": "code",
   "execution_count": 12,
   "id": "b2f3855d-18a4-43f6-9340-fc88aa371968",
   "metadata": {},
   "outputs": [
    {
     "data": {
      "image/png": "[encoded data removed]",
      "text/plain": [
       "<Figure size 640x480 with 1 Axes>"
      ]
     },
     "metadata": {},
     "output_type": "display_data"
    }
   ],
   "source": [
    "# 객체 생성\n",
    "G = nx.Graph()\n",
    "\n",
    "# 노드 설정\n",
    "for i in range(len(df_pos.columns)):\n",
    "    G.add_node(df_pos.columns[i])\n",
    "\n",
    "# 엣지 설정 & 엣지의 가중치 리스트화\n",
    "num_pre = 0\n",
    "edge_weights = []\n",
    "size = 0.1\n",
    "for i in range(len(df_pos.columns)):\n",
    "    for j in range(len(df_pos.columns)):\n",
    "        if not (i==j):\n",
    "            # 엣지 추가\n",
    "            G.add_edge(df_pos.columns[i],df_pos.columns[j])\n",
    "            # 엣지 가중치 추가\n",
    "            if num_pre<len(G.edges):\n",
    "                num_pre = len(G.edges)\n",
    "                weight = 0\n",
    "                if (df_pos.columns[i] in df_tr.columns)and(df_pos.columns[j] in df_tr.index):\n",
    "                    if df_tr[df_pos.columns[i]][df_pos.columns[j]]:\n",
    "                        weight = df_tr[df_pos.columns[i]][df_pos.columns[j]]*size\n",
    "                elif(df_pos.columns[j] in df_tr.columns)and(df_pos.columns[i] in df_tr.index):\n",
    "                    if df_tr[df_pos.columns[j]][df_pos.columns[i]]:\n",
    "                        weight = df_tr[df_pos.columns[j]][df_pos.columns[i]]*size\n",
    "                edge_weights.append(weight)\n",
    "                \n",
    "\n",
    "# 좌표 설정\n",
    "pos = {}\n",
    "for i in range(len(df_pos.columns)):\n",
    "    node = df_pos.columns[i]\n",
    "    pos[node] = (df_pos[node][0],df_pos[node][1])\n",
    "    \n",
    "# 그리기\n",
    "nx.draw(G, pos, with_labels=True,font_size=16, node_size = 1000, node_color='k', font_color='w', width=edge_weights)\n",
    "\n",
    "# 표시\n",
    "plt.show()"
   ]
  },
  {
   "cell_type": "markdown",
   "id": "8013b5bd-f111-4059-91a7-db597483c9d4",
   "metadata": {},
   "source": [
    "## 1.4. 최적의 운송경로인지 확인 "
   ]
  },
  {
   "cell_type": "code",
   "execution_count": 13,
   "id": "96f34002-c301-42ac-8989-d4e6790645a7",
   "metadata": {},
   "outputs": [
    {
     "data": {
      "text/html": [
       "<div>\n",
       "<style scoped>\n",
       "    .dataframe tbody tr th:only-of-type {\n",
       "        vertical-align: middle;\n",
       "    }\n",
       "\n",
       "    .dataframe tbody tr th {\n",
       "        vertical-align: top;\n",
       "    }\n",
       "\n",
       "    .dataframe thead th {\n",
       "        text-align: right;\n",
       "    }\n",
       "</style>\n",
       "<table border=\"1\" class=\"dataframe\">\n",
       "  <thead>\n",
       "    <tr style=\"text-align: right;\">\n",
       "      <th></th>\n",
       "      <th>F1</th>\n",
       "      <th>F2</th>\n",
       "      <th>F3</th>\n",
       "      <th>F4</th>\n",
       "    </tr>\n",
       "  </thead>\n",
       "  <tbody>\n",
       "    <tr>\n",
       "      <th>0</th>\n",
       "      <td>28</td>\n",
       "      <td>29</td>\n",
       "      <td>31</td>\n",
       "      <td>25</td>\n",
       "    </tr>\n",
       "  </tbody>\n",
       "</table>\n",
       "</div>"
      ],
      "text/plain": [
       "   F1  F2  F3  F4\n",
       "0  28  29  31  25"
      ]
     },
     "execution_count": 13,
     "metadata": {},
     "output_type": "execute_result"
    }
   ],
   "source": [
    "df_demand = pd.read_csv('demand.csv')\n",
    "df_demand    # 수요량"
   ]
  },
  {
   "cell_type": "code",
   "execution_count": 20,
   "id": "5472737c-658d-4b23-ac27-4c460b82951f",
   "metadata": {},
   "outputs": [
    {
     "data": {
      "text/html": [
       "<div>\n",
       "<style scoped>\n",
       "    .dataframe tbody tr th:only-of-type {\n",
       "        vertical-align: middle;\n",
       "    }\n",
       "\n",
       "    .dataframe tbody tr th {\n",
       "        vertical-align: top;\n",
       "    }\n",
       "\n",
       "    .dataframe thead th {\n",
       "        text-align: right;\n",
       "    }\n",
       "</style>\n",
       "<table border=\"1\" class=\"dataframe\">\n",
       "  <thead>\n",
       "    <tr style=\"text-align: right;\">\n",
       "      <th></th>\n",
       "      <th>W1</th>\n",
       "      <th>W2</th>\n",
       "      <th>W3</th>\n",
       "    </tr>\n",
       "  </thead>\n",
       "  <tbody>\n",
       "    <tr>\n",
       "      <th>0</th>\n",
       "      <td>35</td>\n",
       "      <td>41</td>\n",
       "      <td>42</td>\n",
       "    </tr>\n",
       "  </tbody>\n",
       "</table>\n",
       "</div>"
      ],
      "text/plain": [
       "   W1  W2  W3\n",
       "0  35  41  42"
      ]
     },
     "execution_count": 20,
     "metadata": {},
     "output_type": "execute_result"
    }
   ],
   "source": [
    "df_supply = pd.read_csv('supply.csv')\n",
    "df_supply     # 공급량 "
   ]
  },
  {
   "cell_type": "code",
   "execution_count": 22,
   "id": "4082773e-3a7f-4ecd-9ec6-6a44759cc44c",
   "metadata": {},
   "outputs": [
    {
     "data": {
      "text/plain": [
       "array([1., 1., 1., 1.])"
      ]
     },
     "execution_count": 22,
     "metadata": {},
     "output_type": "execute_result"
    }
   ],
   "source": [
    "# 제약조건 계산함수\n",
    "# 수요측 : 배송량과 수요량에 맞춰서 잘 진행되고 있나요  == 잘 되고 있으면 1 \n",
    "def condition_demand(df_tr,df_demand):\n",
    "    flag = np.zeros(len(df_demand.columns))\n",
    "    for i in range(len(df_demand.columns)):\n",
    "        temp_sum = sum(df_tr[df_demand.columns[i]])\n",
    "        if (temp_sum>=df_demand.iloc[0][i]):\n",
    "            flag[i] = 1\n",
    "    return flag\n",
    "\n",
    "condition_demand(df_tr_sol,df_demand)"
   ]
  },
  {
   "cell_type": "code",
   "execution_count": 23,
   "id": "1b3495c2-3592-4382-9190-dae6fe316bf1",
   "metadata": {},
   "outputs": [
    {
     "data": {
      "text/plain": [
       "array([1., 1., 1.])"
      ]
     },
     "execution_count": 23,
     "metadata": {},
     "output_type": "execute_result"
    }
   ],
   "source": [
    "# 제약조건 계산함수\n",
    "# 공급측 : 창고가 저장할 수 있는 양에 맞춰서 잘 진행되고 있냐요  == 잘 되고 있으면 1 \n",
    "def condition_supply(df_tr,df_supply):\n",
    "    flag = np.zeros(len(df_supply.columns))\n",
    "    for i in range(len(df_supply.columns)):\n",
    "        temp_sum = sum(df_tr.loc[df_supply.columns[i]])\n",
    "        if temp_sum<=df_supply.iloc[0][i]:\n",
    "            flag[i] = 1\n",
    "    return flag\n",
    "\n",
    "condition_supply(df_tr_sol,df_supply)"
   ]
  },
  {
   "cell_type": "markdown",
   "id": "c4610bef-b4f2-4c52-8202-888a61df4b43",
   "metadata": {},
   "source": [
    "# 2. 생산계획 최적화"
   ]
  },
  {
   "cell_type": "markdown",
   "id": "e2880770-551d-4dac-96e8-7e7f90d832d7",
   "metadata": {},
   "source": [
    "## 2.1 데이터 읽기"
   ]
  },
  {
   "cell_type": "code",
   "execution_count": 28,
   "id": "10421262-e6ce-4afa-b7ce-acd3bc588ff3",
   "metadata": {},
   "outputs": [
    {
     "data": {
      "text/html": [
       "<div>\n",
       "<style scoped>\n",
       "    .dataframe tbody tr th:only-of-type {\n",
       "        vertical-align: middle;\n",
       "    }\n",
       "\n",
       "    .dataframe tbody tr th {\n",
       "        vertical-align: top;\n",
       "    }\n",
       "\n",
       "    .dataframe thead th {\n",
       "        text-align: right;\n",
       "    }\n",
       "</style>\n",
       "<table border=\"1\" class=\"dataframe\">\n",
       "  <thead>\n",
       "    <tr style=\"text-align: right;\">\n",
       "      <th></th>\n",
       "      <th>원료1</th>\n",
       "      <th>원료2</th>\n",
       "      <th>원료3</th>\n",
       "    </tr>\n",
       "    <tr>\n",
       "      <th>제품</th>\n",
       "      <th></th>\n",
       "      <th></th>\n",
       "      <th></th>\n",
       "    </tr>\n",
       "  </thead>\n",
       "  <tbody>\n",
       "    <tr>\n",
       "      <th>제품1</th>\n",
       "      <td>1</td>\n",
       "      <td>4</td>\n",
       "      <td>3</td>\n",
       "    </tr>\n",
       "    <tr>\n",
       "      <th>제품2</th>\n",
       "      <td>2</td>\n",
       "      <td>4</td>\n",
       "      <td>1</td>\n",
       "    </tr>\n",
       "  </tbody>\n",
       "</table>\n",
       "</div>"
      ],
      "text/plain": [
       "     원료1  원료2  원료3\n",
       "제품                \n",
       "제품1    1    4    3\n",
       "제품2    2    4    1"
      ]
     },
     "execution_count": 28,
     "metadata": {},
     "output_type": "execute_result"
    }
   ],
   "source": [
    "# 제품제조에 필요한 원료 비율\n",
    "df_material = pd.read_csv('product_plan_material.csv', index_col=\"제품\")\n",
    "df_material"
   ]
  },
  {
   "cell_type": "code",
   "execution_count": 29,
   "id": "75fa4e05-5d77-445a-8dda-059578aabf87",
   "metadata": {},
   "outputs": [
    {
     "data": {
      "text/html": [
       "<div>\n",
       "<style scoped>\n",
       "    .dataframe tbody tr th:only-of-type {\n",
       "        vertical-align: middle;\n",
       "    }\n",
       "\n",
       "    .dataframe tbody tr th {\n",
       "        vertical-align: top;\n",
       "    }\n",
       "\n",
       "    .dataframe thead th {\n",
       "        text-align: right;\n",
       "    }\n",
       "</style>\n",
       "<table border=\"1\" class=\"dataframe\">\n",
       "  <thead>\n",
       "    <tr style=\"text-align: right;\">\n",
       "      <th></th>\n",
       "      <th>이익</th>\n",
       "    </tr>\n",
       "    <tr>\n",
       "      <th>제품</th>\n",
       "      <th></th>\n",
       "    </tr>\n",
       "  </thead>\n",
       "  <tbody>\n",
       "    <tr>\n",
       "      <th>제품1</th>\n",
       "      <td>5.0</td>\n",
       "    </tr>\n",
       "    <tr>\n",
       "      <th>제품2</th>\n",
       "      <td>4.0</td>\n",
       "    </tr>\n",
       "  </tbody>\n",
       "</table>\n",
       "</div>"
      ],
      "text/plain": [
       "      이익\n",
       "제품      \n",
       "제품1  5.0\n",
       "제품2  4.0"
      ]
     },
     "execution_count": 29,
     "metadata": {},
     "output_type": "execute_result"
    }
   ],
   "source": [
    "# 제품의 이익성\n",
    "df_profit = pd.read_csv('product_plan_profit.csv', index_col=\"제품\")\n",
    "df_profit"
   ]
  },
  {
   "cell_type": "code",
   "execution_count": 30,
   "id": "1e94472b-ba3e-422b-9fe8-d8596ade7213",
   "metadata": {},
   "outputs": [
    {
     "data": {
      "text/html": [
       "<div>\n",
       "<style scoped>\n",
       "    .dataframe tbody tr th:only-of-type {\n",
       "        vertical-align: middle;\n",
       "    }\n",
       "\n",
       "    .dataframe tbody tr th {\n",
       "        vertical-align: top;\n",
       "    }\n",
       "\n",
       "    .dataframe thead th {\n",
       "        text-align: right;\n",
       "    }\n",
       "</style>\n",
       "<table border=\"1\" class=\"dataframe\">\n",
       "  <thead>\n",
       "    <tr style=\"text-align: right;\">\n",
       "      <th></th>\n",
       "      <th>원료1</th>\n",
       "      <th>원료2</th>\n",
       "      <th>원료3</th>\n",
       "    </tr>\n",
       "    <tr>\n",
       "      <th>항목</th>\n",
       "      <th></th>\n",
       "      <th></th>\n",
       "      <th></th>\n",
       "    </tr>\n",
       "  </thead>\n",
       "  <tbody>\n",
       "    <tr>\n",
       "      <th>재고</th>\n",
       "      <td>40</td>\n",
       "      <td>80</td>\n",
       "      <td>50</td>\n",
       "    </tr>\n",
       "  </tbody>\n",
       "</table>\n",
       "</div>"
      ],
      "text/plain": [
       "    원료1  원료2  원료3\n",
       "항목               \n",
       "재고   40   80   50"
      ]
     },
     "execution_count": 30,
     "metadata": {},
     "output_type": "execute_result"
    }
   ],
   "source": [
    "# 제품원료 재고량\n",
    "df_stock = pd.read_csv('product_plan_stock.csv', index_col=\"항목\")\n",
    "df_stock"
   ]
  },
  {
   "cell_type": "code",
   "execution_count": 33,
   "id": "6c801fdb-d95d-4a22-87d2-e6827d2bb0c2",
   "metadata": {},
   "outputs": [
    {
     "data": {
      "text/html": [
       "<div>\n",
       "<style scoped>\n",
       "    .dataframe tbody tr th:only-of-type {\n",
       "        vertical-align: middle;\n",
       "    }\n",
       "\n",
       "    .dataframe tbody tr th {\n",
       "        vertical-align: top;\n",
       "    }\n",
       "\n",
       "    .dataframe thead th {\n",
       "        text-align: right;\n",
       "    }\n",
       "</style>\n",
       "<table border=\"1\" class=\"dataframe\">\n",
       "  <thead>\n",
       "    <tr style=\"text-align: right;\">\n",
       "      <th></th>\n",
       "      <th>생산량</th>\n",
       "    </tr>\n",
       "    <tr>\n",
       "      <th>제품</th>\n",
       "      <th></th>\n",
       "    </tr>\n",
       "  </thead>\n",
       "  <tbody>\n",
       "    <tr>\n",
       "      <th>제품1</th>\n",
       "      <td>16</td>\n",
       "    </tr>\n",
       "    <tr>\n",
       "      <th>제품2</th>\n",
       "      <td>0</td>\n",
       "    </tr>\n",
       "  </tbody>\n",
       "</table>\n",
       "</div>"
      ],
      "text/plain": [
       "      생산량\n",
       "제품       \n",
       "제품1    16\n",
       "제품2     0"
      ]
     },
     "execution_count": 33,
     "metadata": {},
     "output_type": "execute_result"
    }
   ],
   "source": [
    "# 제품 생산 계획량\n",
    "df_plan = pd.read_csv('product_plan.csv', index_col=\"제품\")\n",
    "df_plan"
   ]
  },
  {
   "cell_type": "code",
   "execution_count": 32,
   "id": "1ffd8dc6-14a6-4470-9b7b-35aec3a10da5",
   "metadata": {},
   "outputs": [
    {
     "name": "stdout",
     "output_type": "stream",
     "text": [
      "     원료1  원료2  원료3\n",
      "제품                \n",
      "제품1    1    4    3\n",
      "제품2    2    4    1\n",
      "      이익\n",
      "제품      \n",
      "제품1  5.0\n",
      "제품2  4.0\n",
      "    원료1  원료2  원료3\n",
      "항목               \n",
      "재고   40   80   50\n",
      "      생산량\n",
      "제품       \n",
      "제품1    16\n",
      "제품2     0\n"
     ]
    }
   ],
   "source": [
    "print(df_material)\n",
    "print(df_profit)\n",
    "print(df_stock)\n",
    "print(df_plan)"
   ]
  },
  {
   "cell_type": "markdown",
   "id": "13660beb-8f5d-4a18-8bb5-b0fa77ee5ed3",
   "metadata": {},
   "source": [
    "## 2.2 제품 생산에 따른 이익 계산"
   ]
  },
  {
   "cell_type": "code",
   "execution_count": 34,
   "id": "1fc2a901-ef6f-4be4-b5b6-fde8a95fad6d",
   "metadata": {},
   "outputs": [
    {
     "name": "stdout",
     "output_type": "stream",
     "text": [
      "총 이익:80.0\n"
     ]
    }
   ],
   "source": [
    "# 이익 계산 함수\n",
    "def product_plan(df_profit,df_plan):\n",
    "    profit = 0\n",
    "    for i in range(len(df_profit.index)):\n",
    "        for j in range(len(df_plan.columns)):\n",
    "            profit += df_profit.iloc[i][j]*df_plan.iloc[i][j]\n",
    "    return profit\n",
    "\n",
    "print(\"총 이익:\"+str(product_plan(df_profit,df_plan)))"
   ]
  },
  {
   "cell_type": "markdown",
   "id": "470984c1-bc23-47f8-b363-59ffe17f4543",
   "metadata": {},
   "source": [
    "## 2.3 생산 최적화 찾기"
   ]
  },
  {
   "cell_type": "code",
   "execution_count": 35,
   "id": "015f9dfb-c1d9-4743-a413-afce979597fa",
   "metadata": {},
   "outputs": [
    {
     "name": "stdout",
     "output_type": "stream",
     "text": [
      "Welcome to the CBC MILP Solver \n",
      "Version: 2.10.3 \n",
      "Build Date: Dec 15 2019 \n",
      "\n",
      "command line - /Users/beckhyejin/.pyenv/versions/3.10.11/lib/python3.10/site-packages/pulp/solverdir/cbc/osx/64/cbc /var/folders/ld/lw14806d1tnctxswkwdvry_80000gn/T/6fa156f5a34a41b59b8c70010888e1b0-pulp.mps -max -timeMode elapsed -branch -printingOptions all -solution /var/folders/ld/lw14806d1tnctxswkwdvry_80000gn/T/6fa156f5a34a41b59b8c70010888e1b0-pulp.sol (default strategy 1)\n",
      "At line 2 NAME          MODEL\n",
      "At line 3 ROWS\n",
      "At line 8 COLUMNS\n",
      "At line 17 RHS\n",
      "At line 21 BOUNDS\n",
      "At line 22 ENDATA\n",
      "Problem MODEL has 3 rows, 2 columns and 6 elements\n",
      "Coin0008I MODEL read with 0 errors\n",
      "Option for timeMode changed from cpu to elapsed\n",
      "Presolve 3 (0) rows, 2 (0) columns and 6 (0) elements\n",
      "0  Obj -0 Dual inf 8.9999998 (2)\n",
      "0  Obj -0 Dual inf 8.9999998 (2)\n",
      "2  Obj 95\n",
      "Optimal - objective value 95\n",
      "Optimal objective 95 - 2 iterations time 0.002\n",
      "Option for printingOptions changed from normal to all\n",
      "Total time (CPU seconds):       0.00   (Wallclock seconds):       0.00\n",
      "\n",
      "      생산량\n",
      "제품       \n",
      "제품1    15\n",
      "제품2     5\n",
      "총 이익:95.0\n"
     ]
    }
   ],
   "source": [
    "import pandas as pd\n",
    "from pulp import LpVariable, lpSum, value\n",
    "from ortoolpy import model_max, addvars, addvals\n",
    "\n",
    "\n",
    "df = df_material.copy()\n",
    "inv = df_stock\n",
    "\n",
    "m = model_max()\n",
    "v1 = {(i):LpVariable('v%d'%(i),lowBound=0) for i in range(len(df_profit))}\n",
    "m += lpSum(df_profit.iloc[i]*v1[i] for i in range(len(df_profit)))\n",
    "for i in range(len(df_material.columns)):\n",
    "    m += lpSum(df_material.iloc[j,i]*v1[j] for j in range(len(df_profit)) ) <= df_stock.iloc[:,i]\n",
    "m.solve()\n",
    "\n",
    "df_plan_sol = df_plan.copy()\n",
    "for k,x in v1.items():\n",
    "    df_plan_sol.iloc[k] = value(x)\n",
    "print(df_plan_sol)\n",
    "print(\"총 이익:\"+str(value(m.objective)))"
   ]
  },
  {
   "cell_type": "markdown",
   "id": "3d765828-c43c-4aa1-809c-b02d21e4e23c",
   "metadata": {},
   "source": [
    "## 2.4 생산 최적화인지 확인"
   ]
  },
  {
   "cell_type": "code",
   "execution_count": 36,
   "id": "aefc0f92-c15c-4b94-8c9e-9d481c35e03c",
   "metadata": {},
   "outputs": [
    {
     "name": "stdout",
     "output_type": "stream",
     "text": [
      "원료1  사용량:25.0, 재고:40.0\n",
      "원료2  사용량:80.0, 재고:80.0\n",
      "원료3  사용량:50.0, 재고:50.0\n",
      "제약 조건 계산 결과:[1. 1. 1.]\n"
     ]
    }
   ],
   "source": [
    "# 제약 조건 계산 함수\n",
    "def condition_stock(df_plan,df_material,df_stock):\n",
    "    flag = np.zeros(len(df_material.columns))\n",
    "    for i in range(len(df_material.columns)):  \n",
    "        temp_sum = 0\n",
    "        for j in range(len(df_material.index)):  \n",
    "            temp_sum = temp_sum + df_material.iloc[j][i]*float(df_plan.iloc[j])\n",
    "        if (temp_sum<=float(df_stock.iloc[0][i])):\n",
    "            flag[i] = 1\n",
    "        print(df_material.columns[i]+\"  사용량:\"+str(temp_sum)+\", 재고:\"+str(float(df_stock.iloc[0][i])))\n",
    "    return flag\n",
    "\n",
    "print(\"제약 조건 계산 결과:\"+str(condition_stock(df_plan_sol,df_material,df_stock)))"
   ]
  },
  {
   "cell_type": "markdown",
   "id": "0d1f04f0-a9ab-441a-864e-5ca12d377dd9",
   "metadata": {},
   "source": [
    "## 2.5 물류네트워크 설계문제 풀기"
   ]
  },
  {
   "cell_type": "code",
   "execution_count": 37,
   "id": "5cf75022-6f05-4ee9-8976-edfa067d878c",
   "metadata": {},
   "outputs": [
    {
     "name": "stdout",
     "output_type": "stream",
     "text": [
      "  대리점 공장  운송비\n",
      "0   P  X    1\n",
      "1   P  Y    2\n",
      "2   Q  X    3\n",
      "3   Q  Y    1\n",
      "  대리점 제품  수요\n",
      "0   P  A  10\n",
      "1   P  B  10\n",
      "2   Q  A  20\n",
      "3   Q  B  20\n",
      "  공장  레인 제품  하한    상한  생산비\n",
      "0  X   0  A   0   inf  1.0\n",
      "3  X   1  B   0   inf  1.0\n",
      "4  Y   0  A   0  10.0  3.0\n",
      "6  Y   1  A   0   inf  5.0\n",
      "7  Y   1  B   0   inf  3.0\n",
      "  공장  레인 제품  하한    상한  생산비     VarY  ValY\n",
      "0  X   0  A   0   inf  1.0  v000009  20.0\n",
      "3  X   1  B   0   inf  1.0  v000010  10.0\n",
      "4  Y   0  A   0  10.0  3.0  v000011  10.0\n",
      "6  Y   1  A   0   inf  5.0  v000012   0.0\n",
      "7  Y   1  B   0   inf  3.0  v000013  20.0\n",
      "  대리점 공장  운송비 제품     VarX  ValX\n",
      "0   P  X    1  A  v000001  10.0\n",
      "1   P  X    1  B  v000002  10.0\n",
      "2   Q  X    3  A  v000003  10.0\n",
      "3   Q  X    3  B  v000004   0.0\n",
      "4   P  Y    2  A  v000005   0.0\n",
      "5   P  Y    2  B  v000006   0.0\n",
      "6   Q  Y    1  A  v000007  10.0\n",
      "7   Q  Y    1  B  v000008  20.0\n"
     ]
    }
   ],
   "source": [
    "import numpy as np\n",
    "import pandas as pd\n",
    "\n",
    "제품 = list('AB')\n",
    "대리점 = list('PQ')\n",
    "공장 = list('XY')\n",
    "레인 = (2,2)\n",
    "\n",
    "# 운송비 #\n",
    "tbdi = pd.DataFrame(((j,k) for j in 대리점 for k in 공장), columns=['대리점','공장'])\n",
    "tbdi['운송비'] = [1,2,3,1]\n",
    "print(tbdi)\n",
    "\n",
    "# 수요 #\n",
    "tbde = pd.DataFrame(((j,i) for j in 대리점 for i in 제품), columns=['대리점','제품'])\n",
    "tbde['수요'] = [10,10,20,20]\n",
    "print(tbde)\n",
    "\n",
    "# 생산 #\n",
    "tbfa = pd.DataFrame(((k,l,i,0,np.inf) for k,nl in zip (공장,레인) for l in range(nl) for i in 제품), \n",
    "                    columns=['공장','레인','제품','하한','상한'])\n",
    "tbfa['생산비'] = [1,np.nan,np.nan,1,3,np.nan,5,3]\n",
    "tbfa.dropna(inplace=True)\n",
    "tbfa.loc[4,'상한']=10\n",
    "print(tbfa)\n",
    "\n",
    "from ortoolpy import logistics_network\n",
    "_, tbdi2, _ = logistics_network(tbde, tbdi, tbfa,dep = \"대리점\", dem = \"수요\",fac = \"공장\",\n",
    "                                prd = \"제품\",tcs = \"운송비\",pcs = \"생산비\",lwb = \"하한\",upb = \"상한\")\n",
    "\n",
    "print(tbfa)\n",
    "print(tbdi2)"
   ]
  },
  {
   "cell_type": "markdown",
   "id": "d83f2921-8482-4d6c-aa25-128128075816",
   "metadata": {},
   "source": [
    "## 2.6 최적의 운송 네트워크값 찾기"
   ]
  },
  {
   "cell_type": "code",
   "execution_count": 38,
   "id": "034ada51-6b29-45dd-b964-2156fc639f38",
   "metadata": {},
   "outputs": [
    {
     "data": {
      "text/html": [
       "<div>\n",
       "<style scoped>\n",
       "    .dataframe tbody tr th:only-of-type {\n",
       "        vertical-align: middle;\n",
       "    }\n",
       "\n",
       "    .dataframe tbody tr th {\n",
       "        vertical-align: top;\n",
       "    }\n",
       "\n",
       "    .dataframe thead th {\n",
       "        text-align: right;\n",
       "    }\n",
       "</style>\n",
       "<table border=\"1\" class=\"dataframe\">\n",
       "  <thead>\n",
       "    <tr style=\"text-align: right;\">\n",
       "      <th></th>\n",
       "      <th>공장</th>\n",
       "      <th>대리점</th>\n",
       "      <th>운송비</th>\n",
       "      <th>제품</th>\n",
       "      <th>VarX</th>\n",
       "      <th>ValX</th>\n",
       "    </tr>\n",
       "  </thead>\n",
       "  <tbody>\n",
       "    <tr>\n",
       "      <th>0</th>\n",
       "      <td>X</td>\n",
       "      <td>P</td>\n",
       "      <td>1</td>\n",
       "      <td>A</td>\n",
       "      <td>v000001</td>\n",
       "      <td>10.0</td>\n",
       "    </tr>\n",
       "    <tr>\n",
       "      <th>1</th>\n",
       "      <td>X</td>\n",
       "      <td>P</td>\n",
       "      <td>1</td>\n",
       "      <td>B</td>\n",
       "      <td>v000002</td>\n",
       "      <td>10.0</td>\n",
       "    </tr>\n",
       "    <tr>\n",
       "      <th>2</th>\n",
       "      <td>X</td>\n",
       "      <td>Q</td>\n",
       "      <td>3</td>\n",
       "      <td>A</td>\n",
       "      <td>v000003</td>\n",
       "      <td>10.0</td>\n",
       "    </tr>\n",
       "    <tr>\n",
       "      <th>3</th>\n",
       "      <td>X</td>\n",
       "      <td>Q</td>\n",
       "      <td>3</td>\n",
       "      <td>B</td>\n",
       "      <td>v000004</td>\n",
       "      <td>0.0</td>\n",
       "    </tr>\n",
       "    <tr>\n",
       "      <th>4</th>\n",
       "      <td>Y</td>\n",
       "      <td>P</td>\n",
       "      <td>2</td>\n",
       "      <td>A</td>\n",
       "      <td>v000005</td>\n",
       "      <td>0.0</td>\n",
       "    </tr>\n",
       "    <tr>\n",
       "      <th>5</th>\n",
       "      <td>Y</td>\n",
       "      <td>P</td>\n",
       "      <td>2</td>\n",
       "      <td>B</td>\n",
       "      <td>v000006</td>\n",
       "      <td>0.0</td>\n",
       "    </tr>\n",
       "    <tr>\n",
       "      <th>6</th>\n",
       "      <td>Y</td>\n",
       "      <td>Q</td>\n",
       "      <td>1</td>\n",
       "      <td>A</td>\n",
       "      <td>v000007</td>\n",
       "      <td>10.0</td>\n",
       "    </tr>\n",
       "    <tr>\n",
       "      <th>7</th>\n",
       "      <td>Y</td>\n",
       "      <td>Q</td>\n",
       "      <td>1</td>\n",
       "      <td>B</td>\n",
       "      <td>v000008</td>\n",
       "      <td>20.0</td>\n",
       "    </tr>\n",
       "  </tbody>\n",
       "</table>\n",
       "</div>"
      ],
      "text/plain": [
       "  공장 대리점  운송비 제품     VarX  ValX\n",
       "0  X   P    1  A  v000001  10.0\n",
       "1  X   P    1  B  v000002  10.0\n",
       "2  X   Q    3  A  v000003  10.0\n",
       "3  X   Q    3  B  v000004   0.0\n",
       "4  Y   P    2  A  v000005   0.0\n",
       "5  Y   P    2  B  v000006   0.0\n",
       "6  Y   Q    1  A  v000007  10.0\n",
       "7  Y   Q    1  B  v000008  20.0"
      ]
     },
     "execution_count": 38,
     "metadata": {},
     "output_type": "execute_result"
    }
   ],
   "source": [
    "tbdi2 = tbdi2[[\"공장\",\"대리점\",\"운송비\",\"제품\",\"VarX\",\"ValX\"]]\n",
    "tbdi2"
   ]
  },
  {
   "cell_type": "code",
   "execution_count": 39,
   "id": "4e6f9ab0-ad47-4794-a86c-4ec58ae3b36b",
   "metadata": {},
   "outputs": [
    {
     "name": "stdout",
     "output_type": "stream",
     "text": [
      "총 운송비:80.0\n"
     ]
    }
   ],
   "source": [
    "trans_cost = 0\n",
    "for i in range(len(tbdi2.index)):\n",
    "    trans_cost += tbdi2[\"운송비\"].iloc[i]*tbdi2[\"ValX\"].iloc[i]\n",
    "print(\"총 운송비:\"+str(trans_cost))"
   ]
  },
  {
   "cell_type": "markdown",
   "id": "3ef113af-5765-4bba-b6c6-760077bde9ad",
   "metadata": {},
   "source": [
    "## 2.7 최적의 생산 네트워크값 찾기"
   ]
  },
  {
   "cell_type": "code",
   "execution_count": 41,
   "id": "04016314-6a39-4eb1-a8cc-795011036fa1",
   "metadata": {},
   "outputs": [
    {
     "data": {
      "text/html": [
       "<div>\n",
       "<style scoped>\n",
       "    .dataframe tbody tr th:only-of-type {\n",
       "        vertical-align: middle;\n",
       "    }\n",
       "\n",
       "    .dataframe tbody tr th {\n",
       "        vertical-align: top;\n",
       "    }\n",
       "\n",
       "    .dataframe thead th {\n",
       "        text-align: right;\n",
       "    }\n",
       "</style>\n",
       "<table border=\"1\" class=\"dataframe\">\n",
       "  <thead>\n",
       "    <tr style=\"text-align: right;\">\n",
       "      <th></th>\n",
       "      <th>공장</th>\n",
       "      <th>레인</th>\n",
       "      <th>제품</th>\n",
       "      <th>하한</th>\n",
       "      <th>상한</th>\n",
       "      <th>생산비</th>\n",
       "      <th>VarY</th>\n",
       "      <th>ValY</th>\n",
       "    </tr>\n",
       "  </thead>\n",
       "  <tbody>\n",
       "    <tr>\n",
       "      <th>0</th>\n",
       "      <td>X</td>\n",
       "      <td>0</td>\n",
       "      <td>A</td>\n",
       "      <td>0</td>\n",
       "      <td>inf</td>\n",
       "      <td>1.0</td>\n",
       "      <td>v000009</td>\n",
       "      <td>20.0</td>\n",
       "    </tr>\n",
       "    <tr>\n",
       "      <th>3</th>\n",
       "      <td>X</td>\n",
       "      <td>1</td>\n",
       "      <td>B</td>\n",
       "      <td>0</td>\n",
       "      <td>inf</td>\n",
       "      <td>1.0</td>\n",
       "      <td>v000010</td>\n",
       "      <td>10.0</td>\n",
       "    </tr>\n",
       "    <tr>\n",
       "      <th>4</th>\n",
       "      <td>Y</td>\n",
       "      <td>0</td>\n",
       "      <td>A</td>\n",
       "      <td>0</td>\n",
       "      <td>10.0</td>\n",
       "      <td>3.0</td>\n",
       "      <td>v000011</td>\n",
       "      <td>10.0</td>\n",
       "    </tr>\n",
       "    <tr>\n",
       "      <th>6</th>\n",
       "      <td>Y</td>\n",
       "      <td>1</td>\n",
       "      <td>A</td>\n",
       "      <td>0</td>\n",
       "      <td>inf</td>\n",
       "      <td>5.0</td>\n",
       "      <td>v000012</td>\n",
       "      <td>0.0</td>\n",
       "    </tr>\n",
       "    <tr>\n",
       "      <th>7</th>\n",
       "      <td>Y</td>\n",
       "      <td>1</td>\n",
       "      <td>B</td>\n",
       "      <td>0</td>\n",
       "      <td>inf</td>\n",
       "      <td>3.0</td>\n",
       "      <td>v000013</td>\n",
       "      <td>20.0</td>\n",
       "    </tr>\n",
       "  </tbody>\n",
       "</table>\n",
       "</div>"
      ],
      "text/plain": [
       "  공장  레인 제품  하한    상한  생산비     VarY  ValY\n",
       "0  X   0  A   0   inf  1.0  v000009  20.0\n",
       "3  X   1  B   0   inf  1.0  v000010  10.0\n",
       "4  Y   0  A   0  10.0  3.0  v000011  10.0\n",
       "6  Y   1  A   0   inf  5.0  v000012   0.0\n",
       "7  Y   1  B   0   inf  3.0  v000013  20.0"
      ]
     },
     "execution_count": 41,
     "metadata": {},
     "output_type": "execute_result"
    }
   ],
   "source": [
    "tbfa"
   ]
  },
  {
   "cell_type": "code",
   "execution_count": 42,
   "id": "c9521f80-3f00-48b3-aed0-4847df0ce95c",
   "metadata": {},
   "outputs": [
    {
     "name": "stdout",
     "output_type": "stream",
     "text": [
      "총 생산비:120.0\n"
     ]
    }
   ],
   "source": [
    "product_cost = 0\n",
    "for i in range(len(tbfa.index)):\n",
    "    product_cost += tbfa[\"생산비\"].iloc[i]*tbfa[\"ValY\"].iloc[i]\n",
    "print(\"총 생산비:\"+str(product_cost))"
   ]
  }
 ],
 "metadata": {
  "kernelspec": {
   "display_name": "Python 3 (ipykernel)",
   "language": "python",
   "name": "python3"
  },
  "language_info": {
   "codemirror_mode": {
    "name": "ipython",
    "version": 3
   },
   "file_extension": ".py",
   "mimetype": "text/x-python",
   "name": "python",
   "nbconvert_exporter": "python",
   "pygments_lexer": "ipython3",
   "version": "3.10.11"
  }
 },
 "nbformat": 4,
 "nbformat_minor": 5
}
